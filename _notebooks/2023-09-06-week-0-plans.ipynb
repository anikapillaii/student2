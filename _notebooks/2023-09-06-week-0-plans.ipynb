{
 "cells": [
  {
   "cell_type": "markdown",
   "metadata": {},
   "source": [
    "---\n",
    "toc: true\n",
    "comments: true\n",
    "layout: post\n",
    "title: week 0 plans\n",
    "description:  This was what my plans for week 0 were.\n",
    "courses: { compsci: {week: 0} }\n",
    "type: plans\n",
    "---"
   ]
  },
  {
   "cell_type": "markdown",
   "metadata": {},
   "source": [
    "# week 0 plans\n",
    "- figure out who my partner would be\n",
    "- make my freeform picture\n",
    "- add my picture to my website\n",
    "- download all the required sofrware to my device\n",
    "- make my github & slack account"
   ]
  }
 ],
 "metadata": {
  "language_info": {
   "name": "python"
  },
  "orig_nbformat": 4
 },
 "nbformat": 4,
 "nbformat_minor": 2
}
