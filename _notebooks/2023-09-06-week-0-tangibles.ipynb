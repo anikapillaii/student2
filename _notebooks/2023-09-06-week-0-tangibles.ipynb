{
 "cells": [
  {
   "cell_type": "markdown",
   "metadata": {},
   "source": [
    "---\n",
    "# toc: true\n",
    "comments: false\n",
    "layout: default\n",
    "title: Week 0 Lab Notebook\n",
    "# description: Lab notebook covering week 0\n",
    "type: tangibles\n",
    "courses: { 'compsci': {'week': 0} }\n",
    "---"
   ]
  },
  {
   "cell_type": "markdown",
   "metadata": {},
   "source": [
    "**About Me Page Description**\n",
    "\n",
    "Whehn I was creating my about me page I was trying to add a lot of information about me (like adding my free form image) so that people who were reading my page would get to know me beter.\n",
    "\n",
    "**Problems**\n",
    "\n",
    "- I had some problems when I was creating my table in the beginning because I did not really know how to make it \n",
    "\n",
    "**Solution**\n",
    "\n",
    "- I then read the slack announcements and saw that Mr. Mortenson showed us exactly how to create a table. I then used this information to make one. \n",
    "\n",
    "**Skills used/learned**\n",
    "\n",
    "- I learned the HTML language a little bit better and understood how you could make a table only using a couple of lines of code.\n"
   ]
  },
  {
   "cell_type": "markdown",
   "metadata": {},
   "source": []
  }
 ],
 "metadata": {
  "language_info": {
   "name": "python"
  },
  "orig_nbformat": 4
 },
 "nbformat": 4,
 "nbformat_minor": 2
}
