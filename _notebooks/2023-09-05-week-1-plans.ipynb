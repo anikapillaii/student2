{
 "cells": [
  {
   "cell_type": "markdown",
   "metadata": {},
   "source": [
    "---\n",
    "toc: true\n",
    "comments: true\n",
    "layout: post\n",
    "title: week 1 plans\n",
    "description:  This was what my plans for week 1 were.\n",
    "courses: { compsci: {week: 1} }\n",
    "type: plans\n",
    "---"
   ]
  },
  {
   "cell_type": "markdown",
   "metadata": {},
   "source": [
    "# week 1 plans\n",
    "- add freeform photos to the home page\n",
    "- start learning and reviewing hacks\n",
    "- finish the home page\n",
    "- prepare/present for live review\n",
    "- set up Jupyter Notebook"
   ]
  }
 ],
 "metadata": {
  "language_info": {
   "name": "python"
  },
  "orig_nbformat": 4
 },
 "nbformat": 4,
 "nbformat_minor": 2
}
