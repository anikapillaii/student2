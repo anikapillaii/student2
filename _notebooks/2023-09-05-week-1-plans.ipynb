{
 "cells": [
  {
   "cell_type": "markdown",
   "metadata": {},
   "source": [
    "---\n",
    "toc: true\n",
    "comments: true\n",
    "layout: post\n",
    "title: week 1 plans\n",
    "description:  This was what my plans for week 1 were.\n",
    "courses: { compsci: {week: 1} }\n",
    "type: plans\n",
    "---"
   ]
  }
 ],
 "metadata": {
  "language_info": {
   "name": "python"
  },
  "orig_nbformat": 4
 },
 "nbformat": 4,
 "nbformat_minor": 2
}
