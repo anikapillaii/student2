{
 "cells": [
  {
   "cell_type": "markdown",
   "metadata": {},
   "source": [
    "---\n",
    "toc: true\n",
    "comments: true\n",
    "layout: post\n",
    "title: week 3 plans\n",
    "description:  This was what my plans for week 3 were.\n",
    "courses: { compsci: {week: 3} }\n",
    "type: plans\n",
    "---"
   ]
  },
  {
   "cell_type": "markdown",
   "metadata": {},
   "source": [
    "# week 3 plans\n",
    "- get caught up (because i was sick the week before)\n",
    "- prepare for the pair showcase with partner\n",
    "- finish setting up my table\n",
    "- implement Flask and Linux shell. This can be done through collaboration where one person does Flask and the other works on Linux.\n",
    "- add javascript code to display a to-do list plan on the homepage.\n",
    "- add keyboard interface to existing or new games/projects. (tic tac toe, calculator, chess, etc...)"
   ]
  }
 ],
 "metadata": {
  "language_info": {
   "name": "python"
  },
  "orig_nbformat": 4
 },
 "nbformat": 4,
 "nbformat_minor": 2
}
