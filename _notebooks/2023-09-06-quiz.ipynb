{
 "cells": [
  {
   "cell_type": "markdown",
   "metadata": {},
   "source": [
    "---\n",
    "# toc: true\n",
    "comments: false\n",
    "layout: default\n",
    "title: Quiz Game\n",
    "description: Python Quiz!\n",
    "type: hacks\n",
    "courses: { compsci: {week: 2} }\n",
    "---"
   ]
  },
  {
   "cell_type": "code",
   "execution_count": null,
   "metadata": {},
   "outputs": [],
   "source": [
    "username = input(\"Hello, enter your name here: \");#asks for user name\n",
    "print(\"Hello \" + username + \".\");#greeting\n",
    "questions={\"What command is used to include other functions that were previously developed?\":\"import\",\n",
    "\"What command is used to evaluate correct or incorrect response in this example?\":\"if\",\n",
    "\"Each 'if' command contains an '_________' to determine a true or false condition?\":\"expression\",\n",
    "\"Name the Python output command mentioned in this lesson?\":\"print\",\n",
    "\"Describe a keyword used in Python to define a function?\":\"def\",\n",
    "\"What is the keyword to get user input?\":\"input\"\n",
    "}#creates a dictionary with the key being the question and the value being the answer\n",
    "def quiz():\n",
    "    points=0;#number of questions correct\n",
    "    num=0;#number of questions total\n",
    "    for i in questions:#loops to ask all the questions inside the dictionary\n",
    "        answer = input(\"Question: \" + i);#asks user for answer\n",
    "        if(answer.lower() == questions[i]):#if guess is equal to answer...\n",
    "            print(answer.lower() + \" is Correct!\");#print correct and add 1 point\n",
    "            points+=1;\n",
    "        else:\n",
    "            print(answer.lower() + \" is Incorrect.\");#print incorrect\n",
    "        num+=1;#add 1 to the total num of questions\n",
    "    return(\"Your score is \" + str(points) + \"/\" + str(num) +\".(\" +str(int((points/num)*100))+\"%)\");\n",
    "print(quiz());"
   ]
  }
 ],
 "metadata": {
  "kernelspec": {
   "display_name": "Python 3",
   "language": "python",
   "name": "python3"
  },
  "language_info": {
   "codemirror_mode": {
    "name": "ipython",
    "version": 3
   },
   "file_extension": ".py",
   "mimetype": "text/x-python",
   "name": "python",
   "nbconvert_exporter": "python",
   "pygments_lexer": "ipython3",
   "version": "3.10.12"
  },
  "orig_nbformat": 4
 },
 "nbformat": 4,
 "nbformat_minor": 2
}
