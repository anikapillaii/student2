{
 "cells": [
  {
   "cell_type": "markdown",
   "metadata": {},
   "source": [
    "---\n",
    "# toc: true\n",
    "comments: false\n",
    "layout: default\n",
    "title: Wikipedia\n",
    "description: Wikipedia\n",
    "type: hacks\n",
    "courses: { compsci: {week: 2} }\n",
    "---"
   ]
  },
  {
   "cell_type": "markdown",
   "metadata": {},
   "source": [
    "#!pip install wikipedia\n",
    "import wikipedia \n",
    "from IPython.display import display, Markdown # add for Jupyter\n",
    "\n",
    "term = input(\"Enter query: \")\n",
    "\n",
    "# Search for a page \n",
    "result = wikipedia.search(term)\n",
    "# Get the summary of the first result\n",
    "summary = wikipedia.summary(result[0])\n",
    "print(term) \n",
    "# print(summary) # console display\n",
    "display(Markdown(summary)) # Jupyter display"
   ]
  }
 ],
 "metadata": {
  "language_info": {
   "name": "python"
  },
  "orig_nbformat": 4
 },
 "nbformat": 4,
 "nbformat_minor": 2
}
